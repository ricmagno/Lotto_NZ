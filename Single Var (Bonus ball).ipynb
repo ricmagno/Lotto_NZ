{
 "cells": [
  {
   "cell_type": "markdown",
   "metadata": {},
   "source": [
    "https://www.tensorflow.org/tutorials/structured_data/time_series"
   ]
  },
  {
   "cell_type": "code",
   "execution_count": 1,
   "metadata": {},
   "outputs": [],
   "source": [
    "import tensorflow as tf\n",
    "\n",
    "import matplotlib as mpl\n",
    "import matplotlib.pyplot as plt\n",
    "import numpy as np\n",
    "import os\n",
    "import pandas as pd\n",
    "\n",
    "# mpl.rcParams['figure.figsize'] = (8, 6)\n",
    "# mpl.rcParams['axes.grid'] = False"
   ]
  },
  {
   "cell_type": "markdown",
   "metadata": {},
   "source": [
    "## Functions"
   ]
  },
  {
   "cell_type": "code",
   "execution_count": 2,
   "metadata": {},
   "outputs": [],
   "source": [
    "def univariate_data(dataset, start_index, end_index, history_size, target_size):\n",
    "    data = []\n",
    "    labels = []\n",
    "    \n",
    "    start_index = start_index + history_size\n",
    "    \n",
    "    print(start_index, end_index)\n",
    "    \n",
    "    if end_index is None:\n",
    "        end_index = len(dataset) - target_size\n",
    "\n",
    "    for i in range(start_index, end_index):\n",
    "        indices = range(i-history_size, i)\n",
    "        # Reshape data from (history_size,) to (history_size, 1)\n",
    "        data.append(np.reshape(dataset[indices], (history_size, 1)))\n",
    "        labels.append(dataset[i+target_size])\n",
    "    \n",
    "    return np.array(data), np.array(labels)"
   ]
  },
  {
   "cell_type": "code",
   "execution_count": 3,
   "metadata": {},
   "outputs": [],
   "source": [
    "def create_time_steps(length):\n",
    "    return list(range(-length, 0))"
   ]
  },
  {
   "cell_type": "raw",
   "metadata": {},
   "source": [
    "def show_plot(plot_data, delta, title):\n",
    "  labels = ['History', 'True Future', 'Model Prediction']\n",
    "  marker = ['.-', 'rx', 'go']\n",
    "  time_steps = create_time_steps(plot_data[0].shape[0])\n",
    "  if delta:\n",
    "    future = delta\n",
    "  else:\n",
    "    future = 0\n",
    "\n",
    "  plt.title(title)\n",
    "  for i, x in enumerate(plot_data):\n",
    "    if i:\n",
    "      plt.plot(future, plot_data[i], marker[i], markersize=10,\n",
    "               label=labels[i])\n",
    "    else:\n",
    "      plt.plot(time_steps, plot_data[i].flatten(), marker[i], label=labels[i])\n",
    "  plt.legend()\n",
    "  plt.xlim([time_steps[0], (future+5)*2])\n",
    "  plt.xlabel('Time-Step')\n",
    "  return plt"
   ]
  },
  {
   "cell_type": "raw",
   "metadata": {},
   "source": [
    "def baseline(history):\n",
    "  return np.mean(history)"
   ]
  },
  {
   "cell_type": "markdown",
   "metadata": {},
   "source": [
    "## Data"
   ]
  },
  {
   "cell_type": "code",
   "execution_count": 4,
   "metadata": {},
   "outputs": [
    {
     "name": "stdout",
     "output_type": "stream",
     "text": [
      "11\n"
     ]
    }
   ],
   "source": [
    "from load_data import load_data\n",
    "df = load_data('2020-04-01_draw_results')"
   ]
  },
  {
   "cell_type": "code",
   "execution_count": 39,
   "metadata": {},
   "outputs": [
    {
     "data": {
      "text/html": [
       "<div>\n",
       "<style scoped>\n",
       "    .dataframe tbody tr th:only-of-type {\n",
       "        vertical-align: middle;\n",
       "    }\n",
       "\n",
       "    .dataframe tbody tr th {\n",
       "        vertical-align: top;\n",
       "    }\n",
       "\n",
       "    .dataframe thead th {\n",
       "        text-align: right;\n",
       "    }\n",
       "</style>\n",
       "<table border=\"1\" class=\"dataframe\">\n",
       "  <thead>\n",
       "    <tr style=\"text-align: right;\">\n",
       "      <th></th>\n",
       "      <th>Draw</th>\n",
       "      <th>Date</th>\n",
       "      <th>1</th>\n",
       "      <th>2</th>\n",
       "      <th>3</th>\n",
       "      <th>4</th>\n",
       "      <th>5</th>\n",
       "      <th>6</th>\n",
       "      <th>Bonus</th>\n",
       "      <th>Bonus 2nd</th>\n",
       "      <th>Powerball</th>\n",
       "    </tr>\n",
       "  </thead>\n",
       "  <tbody>\n",
       "    <tr>\n",
       "      <th>1943</th>\n",
       "      <td>1944</td>\n",
       "      <td>2020-03-21</td>\n",
       "      <td>9</td>\n",
       "      <td>18</td>\n",
       "      <td>16</td>\n",
       "      <td>20</td>\n",
       "      <td>28</td>\n",
       "      <td>19</td>\n",
       "      <td>7</td>\n",
       "      <td>NaN</td>\n",
       "      <td>5.0</td>\n",
       "    </tr>\n",
       "    <tr>\n",
       "      <th>1944</th>\n",
       "      <td>1945</td>\n",
       "      <td>2020-03-25</td>\n",
       "      <td>17</td>\n",
       "      <td>8</td>\n",
       "      <td>27</td>\n",
       "      <td>7</td>\n",
       "      <td>10</td>\n",
       "      <td>21</td>\n",
       "      <td>29</td>\n",
       "      <td>NaN</td>\n",
       "      <td>7.0</td>\n",
       "    </tr>\n",
       "    <tr>\n",
       "      <th>1945</th>\n",
       "      <td>1946</td>\n",
       "      <td>2020-03-28</td>\n",
       "      <td>3</td>\n",
       "      <td>2</td>\n",
       "      <td>39</td>\n",
       "      <td>19</td>\n",
       "      <td>35</td>\n",
       "      <td>37</td>\n",
       "      <td>23</td>\n",
       "      <td>NaN</td>\n",
       "      <td>10.0</td>\n",
       "    </tr>\n",
       "    <tr>\n",
       "      <th>1946</th>\n",
       "      <td>1947</td>\n",
       "      <td>2020-04-01</td>\n",
       "      <td>8</td>\n",
       "      <td>21</td>\n",
       "      <td>25</td>\n",
       "      <td>28</td>\n",
       "      <td>32</td>\n",
       "      <td>35</td>\n",
       "      <td>18</td>\n",
       "      <td>0.0</td>\n",
       "      <td>3.0</td>\n",
       "    </tr>\n",
       "  </tbody>\n",
       "</table>\n",
       "</div>"
      ],
      "text/plain": [
       "      Draw       Date   1   2   3   4   5   6  Bonus  Bonus 2nd  Powerball\n",
       "1943  1944 2020-03-21   9  18  16  20  28  19      7        NaN        5.0\n",
       "1944  1945 2020-03-25  17   8  27   7  10  21     29        NaN        7.0\n",
       "1945  1946 2020-03-28   3   2  39  19  35  37     23        NaN       10.0\n",
       "1946  1947 2020-04-01   8  21  25  28  32  35     18        0.0        3.0"
      ]
     },
     "execution_count": 39,
     "metadata": {},
     "output_type": "execute_result"
    }
   ],
   "source": [
    "df.tail(4)"
   ]
  },
  {
   "cell_type": "markdown",
   "metadata": {},
   "source": [
    "## Ball to Predict"
   ]
  },
  {
   "cell_type": "code",
   "execution_count": 6,
   "metadata": {},
   "outputs": [],
   "source": [
    "# Ball_to_predict = '1'\n",
    "# Ball_to_predict = '2'\n",
    "# Ball_to_predict = '3'\n",
    "# Ball_to_predict = '4'\n",
    "# Ball_to_predict = '5'\n",
    "# Ball_to_predict = '6'\n",
    "# Ball_to_predict = 'Bonus'\n",
    "Ball_to_predict = 'Bonus 2nd'\n",
    "# Ball_to_predict = 'Powerball'"
   ]
  },
  {
   "cell_type": "code",
   "execution_count": 7,
   "metadata": {},
   "outputs": [
    {
     "data": {
      "text/plain": [
       "<bound method NDFrame.tail of       Draw       Date   1   2   3   4   5   6  Bonus  Bonus 2nd  Powerball\n",
       "0        1 1987-08-01   4  29  16  40   8  32     30        NaN        NaN\n",
       "1        2 1987-08-08   3   9  39  13  36  20     38        NaN        NaN\n",
       "2        3 1987-08-15  11  26  18  39  22   5     38        NaN        NaN\n",
       "3        4 1987-08-22  35   2  29  10   4  11     14        NaN        NaN\n",
       "4        5 1987-08-29  23   7   3   8  12  11     15        NaN        NaN\n",
       "...    ...        ...  ..  ..  ..  ..  ..  ..    ...        ...        ...\n",
       "1941  1942 2020-03-14  36  25   9  23  13  22     37        NaN        2.0\n",
       "1942  1943 2020-03-18  36  12  18   2  28  20     32        NaN       10.0\n",
       "1943  1944 2020-03-21   9  18  16  20  28  19      7        NaN        5.0\n",
       "1944  1945 2020-03-25  17   8  27   7  10  21     29        NaN        7.0\n",
       "1945  1946 2020-03-28   3   2  39  19  35  37     23        NaN       10.0\n",
       "\n",
       "[1946 rows x 11 columns]>"
      ]
     },
     "execution_count": 7,
     "metadata": {},
     "output_type": "execute_result"
    }
   ],
   "source": [
    "test = df[df[Ball_to_predict] != 0]\n",
    "test.tail"
   ]
  },
  {
   "cell_type": "code",
   "execution_count": 8,
   "metadata": {},
   "outputs": [
    {
     "data": {
      "text/plain": [
       "Date\n",
       "2004-07-10     6.0\n",
       "2004-07-17     5.0\n",
       "2004-07-24     2.0\n",
       "2004-07-31     6.0\n",
       "2004-08-07    25.0\n",
       "Name: Bonus 2nd, dtype: float64"
      ]
     },
     "execution_count": 8,
     "metadata": {},
     "output_type": "execute_result"
    }
   ],
   "source": [
    "dft = df.dropna(subset=[Ball_to_predict])\n",
    "dft = dft[dft[Ball_to_predict] != 0]\n",
    "uni_data = dft[Ball_to_predict]\n",
    "uni_data.index = dft['Date']\n",
    "\n",
    "# dft = dft.reset_index(drop=True)\n",
    "# dft = dft.reindex()\n",
    "uni_data.tail()"
   ]
  },
  {
   "cell_type": "code",
   "execution_count": 41,
   "metadata": {},
   "outputs": [
    {
     "data": {
      "text/plain": [
       "<bound method NDFrame.tail of Date\n",
       "2002-11-02    16.0\n",
       "2002-11-09    37.0\n",
       "2002-11-16     5.0\n",
       "2002-11-23    32.0\n",
       "2002-11-30    27.0\n",
       "              ... \n",
       "2004-07-10     6.0\n",
       "2004-07-17     5.0\n",
       "2004-07-24     2.0\n",
       "2004-07-31     6.0\n",
       "2004-08-07    25.0\n",
       "Name: Bonus 2nd, Length: 94, dtype: float64>"
      ]
     },
     "execution_count": 41,
     "metadata": {},
     "output_type": "execute_result"
    }
   ],
   "source": [
    "dft['Bonus 2nd'].tail"
   ]
  },
  {
   "cell_type": "code",
   "execution_count": 9,
   "metadata": {},
   "outputs": [],
   "source": [
    "uni_data = uni_data.values"
   ]
  },
  {
   "cell_type": "raw",
   "metadata": {},
   "source": [
    "dft = dft.reindex()\n",
    "uni_data = dft[Ball_to_predict]\n",
    "uni_data.index = dft.index\n",
    "# df = df.reset_index(drop=True)\n",
    "# df = df.reindex()\n",
    "# uni_data.index = df['index']\n",
    "# uni_data = uni_data.reindex()\n",
    "uni_data.tail()"
   ]
  },
  {
   "cell_type": "code",
   "execution_count": 10,
   "metadata": {},
   "outputs": [
    {
     "name": "stdout",
     "output_type": "stream",
     "text": [
      "94 75\n"
     ]
    }
   ],
   "source": [
    "TRAIN_SPLIT = int(len(dft.index)*.8)\n",
    "#TRAIN_SPLIT = int(dft['Draw'].loc[df['Draw'].idxmax()]*.8)\n",
    "print( len(dft.index*.7),TRAIN_SPLIT)"
   ]
  },
  {
   "cell_type": "code",
   "execution_count": 11,
   "metadata": {},
   "outputs": [],
   "source": [
    "tf.random.set_seed(13)"
   ]
  },
  {
   "cell_type": "code",
   "execution_count": 12,
   "metadata": {},
   "outputs": [],
   "source": [
    "# uni_data.plot(subplots=True)"
   ]
  },
  {
   "cell_type": "markdown",
   "metadata": {},
   "source": [
    "uni_data = dft[Ball_to_predict]\n",
    "uni_data.index = dft['Draw']\n",
    "uni_data.head()"
   ]
  },
  {
   "cell_type": "code",
   "execution_count": 13,
   "metadata": {},
   "outputs": [
    {
     "data": {
      "text/plain": [
       "22.85333333333333"
      ]
     },
     "execution_count": 13,
     "metadata": {},
     "output_type": "execute_result"
    }
   ],
   "source": [
    "uni_train_mean = uni_data[:TRAIN_SPLIT].mean()\n",
    "uni_train_mean"
   ]
  },
  {
   "cell_type": "code",
   "execution_count": 14,
   "metadata": {},
   "outputs": [
    {
     "data": {
      "text/plain": [
       "11.292113275300697"
      ]
     },
     "execution_count": 14,
     "metadata": {},
     "output_type": "execute_result"
    }
   ],
   "source": [
    "uni_train_std = uni_data[:TRAIN_SPLIT].std()\n",
    "uni_train_std"
   ]
  },
  {
   "cell_type": "code",
   "execution_count": 15,
   "metadata": {},
   "outputs": [
    {
     "data": {
      "text/plain": [
       "array([-0.60691326,  1.25279178, -1.58104448,  0.81000486,  0.36721795,\n",
       "       -0.4297985 , -1.93527401,  0.98711963, -0.60691326,  1.51846393,\n",
       "       -0.87258541, -0.16412635,  1.16423439, -0.16412635,  0.81000486,\n",
       "        1.25279178, -1.40392971,  1.51846393,  0.81000486, -1.66960186,\n",
       "       -0.16412635, -0.25268373, -0.07556897,  0.45577533, -1.04970018,\n",
       "        0.6328901 ,  0.19010318, -1.22681495, -0.34124112,  1.51846393,\n",
       "        0.36721795, -1.66960186, -1.49248709,  0.1015458 ,  0.1015458 ,\n",
       "       -1.31537233, -1.66960186, -0.69547065,  1.16423439,  1.34134916,\n",
       "        0.81000486,  1.34134916,  0.72144748, -1.31537233, -0.78402803,\n",
       "        0.89856225,  0.6328901 , -1.66960186,  0.36721795,  0.19010318,\n",
       "       -1.13825756,  0.19010318,  0.27866057,  1.34134916,  0.98711963,\n",
       "        1.25279178,  0.1015458 , -0.16412635, -0.25268373, -0.9611428 ,\n",
       "       -0.16412635,  1.42990654, -1.84671663, -0.16412635, -0.60691326,\n",
       "       -0.69547065,  1.51846393,  0.36721795, -0.16412635, -0.51835588,\n",
       "        0.54433271,  1.42990654, -0.78402803,  1.07567701, -1.22681495,\n",
       "        1.25279178, -0.51835588,  0.6328901 , -1.84671663, -1.66960186,\n",
       "       -0.4297985 , -1.40392971,  1.34134916, -1.31537233,  0.81000486,\n",
       "        1.16423439,  1.42990654, -1.49248709,  0.27866057, -1.49248709,\n",
       "       -1.58104448, -1.84671663, -1.49248709,  0.19010318])"
      ]
     },
     "execution_count": 15,
     "metadata": {},
     "output_type": "execute_result"
    }
   ],
   "source": [
    "uni_data = (uni_data - uni_train_mean) / uni_train_std\n",
    "uni_data"
   ]
  },
  {
   "cell_type": "code",
   "execution_count": 16,
   "metadata": {},
   "outputs": [
    {
     "name": "stdout",
     "output_type": "stream",
     "text": [
      "8 75\n"
     ]
    }
   ],
   "source": [
    "univariate_past_history = 8\n",
    "univariate_future_target = 0\n",
    "\n",
    "x_train_uni, y_train_uni = univariate_data(uni_data, 0, TRAIN_SPLIT,\n",
    "                                           univariate_past_history,\n",
    "                                           univariate_future_target)"
   ]
  },
  {
   "cell_type": "code",
   "execution_count": 17,
   "metadata": {},
   "outputs": [
    {
     "name": "stdout",
     "output_type": "stream",
     "text": [
      "83 None\n"
     ]
    }
   ],
   "source": [
    "x_val_uni, y_val_uni = univariate_data(uni_data, TRAIN_SPLIT, None,\n",
    "                                       univariate_past_history,\n",
    "                                       univariate_future_target)"
   ]
  },
  {
   "cell_type": "code",
   "execution_count": 18,
   "metadata": {},
   "outputs": [
    {
     "name": "stdout",
     "output_type": "stream",
     "text": [
      "(67, 8, 1) (67,)\n"
     ]
    }
   ],
   "source": [
    "print(x_train_uni.shape, y_train_uni.shape)"
   ]
  },
  {
   "cell_type": "code",
   "execution_count": 19,
   "metadata": {},
   "outputs": [
    {
     "name": "stdout",
     "output_type": "stream",
     "text": [
      "(11, 8, 1) (11,)\n"
     ]
    }
   ],
   "source": [
    "print(x_val_uni.shape, y_val_uni.shape)"
   ]
  },
  {
   "cell_type": "code",
   "execution_count": 20,
   "metadata": {},
   "outputs": [
    {
     "name": "stdout",
     "output_type": "stream",
     "text": [
      "Single window of past history\n",
      "[[ 1.51846393]\n",
      " [ 0.36721795]\n",
      " [-0.16412635]\n",
      " [-0.51835588]\n",
      " [ 0.54433271]\n",
      " [ 1.42990654]\n",
      " [-0.78402803]\n",
      " [ 1.07567701]]\n",
      "\n",
      " Bonus ball to predict\n",
      "-1.2268149455810726\n"
     ]
    }
   ],
   "source": [
    "print ('Single window of past history')\n",
    "print (x_train_uni[-1])\n",
    "print ('\\n Bonus ball to predict')\n",
    "print (y_train_uni[-1])"
   ]
  },
  {
   "cell_type": "code",
   "execution_count": 21,
   "metadata": {},
   "outputs": [
    {
     "name": "stdout",
     "output_type": "stream",
     "text": [
      "Single window of past history\n",
      "[[40.]\n",
      " [27.]\n",
      " [21.]\n",
      " [17.]\n",
      " [29.]\n",
      " [39.]\n",
      " [14.]\n",
      " [35.]]\n",
      "\n",
      " Bonus ball to predict\n",
      "9.0\n"
     ]
    }
   ],
   "source": [
    "print ('Single window of past history')\n",
    "print (x_train_uni[-1]*uni_train_std+uni_train_mean)\n",
    "print ('\\n Bonus ball to predict')\n",
    "print (y_train_uni[-1]*uni_train_std+uni_train_mean)"
   ]
  },
  {
   "cell_type": "raw",
   "metadata": {},
   "source": [
    "show_plot([x_train_uni[0]*uni_train_std+uni_train_mean, \n",
    "           y_train_uni[0]*uni_train_std+uni_train_mean], \n",
    "          0, 'Sample Example')"
   ]
  },
  {
   "cell_type": "raw",
   "metadata": {},
   "source": [
    "show_plot([x_train_uni[0]*uni_train_std+uni_train_mean, \n",
    "           y_train_uni[0]*uni_train_std+uni_train_mean, \n",
    "           baseline(x_train_uni[0])], 0,\n",
    "           'Baseline Prediction Example')"
   ]
  },
  {
   "cell_type": "code",
   "execution_count": 22,
   "metadata": {},
   "outputs": [],
   "source": [
    "BATCH_SIZE = 256\n",
    "BUFFER_SIZE = 300\n",
    "\n",
    "train_univariate = tf.data.Dataset.from_tensor_slices((x_train_uni, y_train_uni))\n",
    "train_univariate = train_univariate.cache().shuffle(BUFFER_SIZE).batch(BATCH_SIZE).repeat()\n",
    "\n",
    "val_univariate = tf.data.Dataset.from_tensor_slices((x_val_uni, y_val_uni))\n",
    "val_univariate = val_univariate.batch(BATCH_SIZE).repeat()"
   ]
  },
  {
   "cell_type": "code",
   "execution_count": 26,
   "metadata": {},
   "outputs": [],
   "source": [
    "simple_lstm_model = tf.keras.models.Sequential([\n",
    "    tf.keras.layers.LSTM(8, input_shape=x_train_uni.shape[-2:]),\n",
    "    tf.keras.layers.Dense(1)])\n",
    "\n",
    "simple_lstm_model.compile(optimizer='adam', loss='mae')"
   ]
  },
  {
   "cell_type": "code",
   "execution_count": 27,
   "metadata": {},
   "outputs": [
    {
     "name": "stdout",
     "output_type": "stream",
     "text": [
      "(11, 1)\n"
     ]
    }
   ],
   "source": [
    "for x, y in val_univariate.take(1):\n",
    "    print(simple_lstm_model.predict(x).shape)"
   ]
  },
  {
   "cell_type": "code",
   "execution_count": 28,
   "metadata": {},
   "outputs": [
    {
     "name": "stdout",
     "output_type": "stream",
     "text": [
      "Train for 300 steps, validate for 50 steps\n",
      "Epoch 1/100\n",
      "300/300 [==============================] - 3s 9ms/step - loss: 0.7877 - val_loss: 1.1116\n",
      "Epoch 2/100\n",
      "300/300 [==============================] - 1s 4ms/step - loss: 0.7297 - val_loss: 1.1643\n",
      "Epoch 3/100\n",
      "300/300 [==============================] - 1s 4ms/step - loss: 0.6118 - val_loss: 1.1683\n",
      "Epoch 4/100\n",
      "300/300 [==============================] - 1s 4ms/step - loss: 0.4555 - val_loss: 1.1211\n",
      "Epoch 5/100\n",
      "300/300 [==============================] - 1s 5ms/step - loss: 0.3489 - val_loss: 1.1716\n",
      "Epoch 6/100\n",
      "300/300 [==============================] - 1s 5ms/step - loss: 0.2593 - val_loss: 1.2367\n",
      "Epoch 7/100\n",
      "300/300 [==============================] - 1s 4ms/step - loss: 0.1913 - val_loss: 1.3229\n",
      "Epoch 8/100\n",
      "300/300 [==============================] - 1s 4ms/step - loss: 0.1516 - val_loss: 1.3634\n",
      "Epoch 9/100\n",
      "300/300 [==============================] - 1s 4ms/step - loss: 0.1258 - val_loss: 1.3812\n",
      "Epoch 10/100\n",
      "300/300 [==============================] - 1s 5ms/step - loss: 0.1047 - val_loss: 1.3987\n",
      "Epoch 11/100\n",
      "300/300 [==============================] - 1s 5ms/step - loss: 0.0882 - val_loss: 1.4162\n",
      "Epoch 12/100\n",
      "300/300 [==============================] - 1s 4ms/step - loss: 0.0718 - val_loss: 1.4287\n",
      "Epoch 13/100\n",
      "300/300 [==============================] - 1s 4ms/step - loss: 0.0508 - val_loss: 1.4277\n",
      "Epoch 14/100\n",
      "300/300 [==============================] - 1s 4ms/step - loss: 0.0295 - val_loss: 1.4308\n",
      "Epoch 15/100\n",
      "300/300 [==============================] - 1s 4ms/step - loss: 0.0189 - val_loss: 1.4329\n",
      "Epoch 16/100\n",
      "300/300 [==============================] - 1s 4ms/step - loss: 0.0134 - val_loss: 1.4387\n",
      "Epoch 17/100\n",
      "300/300 [==============================] - 1s 4ms/step - loss: 0.0101 - val_loss: 1.4461\n",
      "Epoch 18/100\n",
      "300/300 [==============================] - 1s 4ms/step - loss: 0.0084 - val_loss: 1.4542\n",
      "Epoch 19/100\n",
      "300/300 [==============================] - 1s 4ms/step - loss: 0.0073 - val_loss: 1.4618\n",
      "Epoch 20/100\n",
      "300/300 [==============================] - 1s 4ms/step - loss: 0.0070 - val_loss: 1.4693\n",
      "Epoch 21/100\n",
      "300/300 [==============================] - 1s 4ms/step - loss: 0.0069 - val_loss: 1.4756\n",
      "Epoch 22/100\n",
      "300/300 [==============================] - 1s 4ms/step - loss: 0.0051 - val_loss: 1.4791\n",
      "Epoch 23/100\n",
      "300/300 [==============================] - 1s 4ms/step - loss: 0.0058 - val_loss: 1.4841\n",
      "Epoch 24/100\n",
      "300/300 [==============================] - 1s 4ms/step - loss: 0.0065 - val_loss: 1.4878\n",
      "Epoch 25/100\n",
      "300/300 [==============================] - 1s 4ms/step - loss: 0.0051 - val_loss: 1.4885\n",
      "Epoch 26/100\n",
      "300/300 [==============================] - 1s 4ms/step - loss: 0.0042 - val_loss: 1.4873\n",
      "Epoch 27/100\n",
      "300/300 [==============================] - 1s 4ms/step - loss: 0.0042 - val_loss: 1.4893\n",
      "Epoch 28/100\n",
      "300/300 [==============================] - 1s 4ms/step - loss: 0.0039 - val_loss: 1.4883\n",
      "Epoch 29/100\n",
      "300/300 [==============================] - 1s 4ms/step - loss: 0.0048 - val_loss: 1.4909\n",
      "Epoch 30/100\n",
      "300/300 [==============================] - 1s 4ms/step - loss: 0.0043 - val_loss: 1.4915\n",
      "Epoch 31/100\n",
      "300/300 [==============================] - 1s 4ms/step - loss: 0.0048 - val_loss: 1.4920\n",
      "Epoch 32/100\n",
      "300/300 [==============================] - 1s 4ms/step - loss: 0.0061 - val_loss: 1.4912\n",
      "Epoch 33/100\n",
      "300/300 [==============================] - 1s 4ms/step - loss: 0.0039 - val_loss: 1.4928\n",
      "Epoch 34/100\n",
      "300/300 [==============================] - 1s 4ms/step - loss: 0.0041 - val_loss: 1.4931\n",
      "Epoch 35/100\n",
      "300/300 [==============================] - 1s 4ms/step - loss: 0.0041 - val_loss: 1.4927\n",
      "Epoch 36/100\n",
      "300/300 [==============================] - 1s 4ms/step - loss: 0.0044 - val_loss: 1.4940\n",
      "Epoch 37/100\n",
      "300/300 [==============================] - 1s 4ms/step - loss: 0.0040 - val_loss: 1.4935\n",
      "Epoch 38/100\n",
      "300/300 [==============================] - 1s 4ms/step - loss: 0.0039 - val_loss: 1.4939\n",
      "Epoch 39/100\n",
      "300/300 [==============================] - 1s 4ms/step - loss: 0.0039 - val_loss: 1.4959\n",
      "Epoch 40/100\n",
      "300/300 [==============================] - 1s 4ms/step - loss: 0.0040 - val_loss: 1.4952\n",
      "Epoch 41/100\n",
      "300/300 [==============================] - 1s 4ms/step - loss: 0.0042 - val_loss: 1.4974\n",
      "Epoch 42/100\n",
      "300/300 [==============================] - 1s 4ms/step - loss: 0.0052 - val_loss: 1.4967\n",
      "Epoch 43/100\n",
      "300/300 [==============================] - 1s 4ms/step - loss: 0.0039 - val_loss: 1.4979\n",
      "Epoch 44/100\n",
      "300/300 [==============================] - 1s 4ms/step - loss: 0.0044 - val_loss: 1.4985\n",
      "Epoch 45/100\n",
      "300/300 [==============================] - 1s 4ms/step - loss: 0.0042 - val_loss: 1.4981\n",
      "Epoch 46/100\n",
      "300/300 [==============================] - 1s 4ms/step - loss: 0.0059 - val_loss: 1.4973\n",
      "Epoch 47/100\n",
      "300/300 [==============================] - 1s 4ms/step - loss: 0.0042 - val_loss: 1.5009\n",
      "Epoch 48/100\n",
      "300/300 [==============================] - 1s 4ms/step - loss: 0.0037 - val_loss: 1.5011\n",
      "Epoch 49/100\n",
      "300/300 [==============================] - 1s 4ms/step - loss: 0.0041 - val_loss: 1.5023\n",
      "Epoch 50/100\n",
      "300/300 [==============================] - 1s 4ms/step - loss: 0.0037 - val_loss: 1.5029\n",
      "Epoch 51/100\n",
      "300/300 [==============================] - 1s 4ms/step - loss: 0.0038 - val_loss: 1.5028\n",
      "Epoch 52/100\n",
      "300/300 [==============================] - 1s 4ms/step - loss: 0.0037 - val_loss: 1.5022\n",
      "Epoch 53/100\n",
      "300/300 [==============================] - 1s 4ms/step - loss: 0.0037 - val_loss: 1.5030\n",
      "Epoch 54/100\n",
      "300/300 [==============================] - 1s 4ms/step - loss: 0.0042 - val_loss: 1.5033\n",
      "Epoch 55/100\n",
      "300/300 [==============================] - 1s 4ms/step - loss: 0.0041 - val_loss: 1.5037\n",
      "Epoch 56/100\n",
      "300/300 [==============================] - 1s 4ms/step - loss: 0.0035 - val_loss: 1.5040\n",
      "Epoch 57/100\n",
      "300/300 [==============================] - 1s 4ms/step - loss: 0.0040 - val_loss: 1.5029\n",
      "Epoch 58/100\n",
      "300/300 [==============================] - 1s 4ms/step - loss: 0.0042 - val_loss: 1.5055\n",
      "Epoch 59/100\n",
      "300/300 [==============================] - 1s 4ms/step - loss: 0.0042 - val_loss: 1.5066\n",
      "Epoch 60/100\n",
      "300/300 [==============================] - 1s 4ms/step - loss: 0.0036 - val_loss: 1.5085\n",
      "Epoch 61/100\n",
      "300/300 [==============================] - 1s 4ms/step - loss: 0.0035 - val_loss: 1.5061\n",
      "Epoch 62/100\n",
      "300/300 [==============================] - 1s 4ms/step - loss: 0.0034 - val_loss: 1.5073\n",
      "Epoch 63/100\n",
      "300/300 [==============================] - 1s 4ms/step - loss: 0.0035 - val_loss: 1.5067\n",
      "Epoch 64/100\n",
      "300/300 [==============================] - 1s 4ms/step - loss: 0.0036 - val_loss: 1.5084\n",
      "Epoch 65/100\n",
      "300/300 [==============================] - 1s 4ms/step - loss: 0.0046 - val_loss: 1.5071\n",
      "Epoch 66/100\n",
      "300/300 [==============================] - 1s 5ms/step - loss: 0.0039 - val_loss: 1.5084\n",
      "Epoch 67/100\n",
      "300/300 [==============================] - 2s 5ms/step - loss: 0.0040 - val_loss: 1.5085\n",
      "Epoch 68/100\n",
      "300/300 [==============================] - 1s 4ms/step - loss: 0.0053 - val_loss: 1.5079\n",
      "Epoch 69/100\n",
      "300/300 [==============================] - 1s 5ms/step - loss: 0.0052 - val_loss: 1.5116\n",
      "Epoch 70/100\n",
      "300/300 [==============================] - 2s 5ms/step - loss: 0.0029 - val_loss: 1.5124\n",
      "Epoch 71/100\n",
      "300/300 [==============================] - 1s 4ms/step - loss: 0.0036 - val_loss: 1.5108\n",
      "Epoch 72/100\n",
      "300/300 [==============================] - 1s 4ms/step - loss: 0.0034 - val_loss: 1.5132\n",
      "Epoch 73/100\n",
      "300/300 [==============================] - 1s 4ms/step - loss: 0.0037 - val_loss: 1.5129\n",
      "Epoch 74/100\n",
      "300/300 [==============================] - 1s 4ms/step - loss: 0.0047 - val_loss: 1.5135\n",
      "Epoch 75/100\n",
      "300/300 [==============================] - 1s 4ms/step - loss: 0.0035 - val_loss: 1.5137\n",
      "Epoch 76/100\n",
      "300/300 [==============================] - 1s 4ms/step - loss: 0.0037 - val_loss: 1.5158\n",
      "Epoch 77/100\n",
      "300/300 [==============================] - 2s 5ms/step - loss: 0.0035 - val_loss: 1.5144\n",
      "Epoch 78/100\n",
      "300/300 [==============================] - 1s 4ms/step - loss: 0.0054 - val_loss: 1.5147\n",
      "Epoch 79/100\n",
      "300/300 [==============================] - 1s 4ms/step - loss: 0.0039 - val_loss: 1.5131\n",
      "Epoch 80/100\n",
      "300/300 [==============================] - 1s 5ms/step - loss: 0.0037 - val_loss: 1.5156\n"
     ]
    },
    {
     "name": "stdout",
     "output_type": "stream",
     "text": [
      "Epoch 81/100\n",
      "300/300 [==============================] - 2s 5ms/step - loss: 0.0035 - val_loss: 1.5164\n",
      "Epoch 82/100\n",
      "300/300 [==============================] - 1s 4ms/step - loss: 0.0032 - val_loss: 1.5188\n",
      "Epoch 83/100\n",
      "300/300 [==============================] - 1s 4ms/step - loss: 0.0044 - val_loss: 1.5158\n",
      "Epoch 84/100\n",
      "300/300 [==============================] - 1s 4ms/step - loss: 0.0041 - val_loss: 1.5177\n",
      "Epoch 85/100\n",
      "300/300 [==============================] - 1s 4ms/step - loss: 0.0037 - val_loss: 1.5179\n",
      "Epoch 86/100\n",
      "300/300 [==============================] - 1s 4ms/step - loss: 0.0034 - val_loss: 1.5184\n",
      "Epoch 87/100\n",
      "300/300 [==============================] - 1s 4ms/step - loss: 0.0048 - val_loss: 1.5216\n",
      "Epoch 88/100\n",
      "300/300 [==============================] - 1s 4ms/step - loss: 0.0037 - val_loss: 1.5203\n",
      "Epoch 89/100\n",
      "300/300 [==============================] - 1s 4ms/step - loss: 0.0033 - val_loss: 1.5206\n",
      "Epoch 90/100\n",
      "300/300 [==============================] - 1s 4ms/step - loss: 0.0033 - val_loss: 1.5188\n",
      "Epoch 91/100\n",
      "300/300 [==============================] - 1s 4ms/step - loss: 0.0034 - val_loss: 1.5216\n",
      "Epoch 92/100\n",
      "300/300 [==============================] - 1s 4ms/step - loss: 0.0037 - val_loss: 1.5209\n",
      "Epoch 93/100\n",
      "300/300 [==============================] - 1s 4ms/step - loss: 0.0029 - val_loss: 1.5222\n",
      "Epoch 94/100\n",
      "300/300 [==============================] - 1s 4ms/step - loss: 0.0035 - val_loss: 1.5233\n",
      "Epoch 95/100\n",
      "300/300 [==============================] - 1s 4ms/step - loss: 0.0039 - val_loss: 1.5239\n",
      "Epoch 96/100\n",
      "300/300 [==============================] - 2s 6ms/step - loss: 0.0034 - val_loss: 1.5239\n",
      "Epoch 97/100\n",
      "300/300 [==============================] - 2s 7ms/step - loss: 0.0036 - val_loss: 1.5242\n",
      "Epoch 98/100\n",
      "300/300 [==============================] - 1s 5ms/step - loss: 0.0036 - val_loss: 1.5233\n",
      "Epoch 99/100\n",
      "300/300 [==============================] - 2s 7ms/step - loss: 0.0038 - val_loss: 1.5269\n",
      "Epoch 100/100\n",
      "300/300 [==============================] - 2s 7ms/step - loss: 0.0035 - val_loss: 1.5260\n"
     ]
    },
    {
     "data": {
      "text/plain": [
       "<tensorflow.python.keras.callbacks.History at 0x13cf35810>"
      ]
     },
     "execution_count": 28,
     "metadata": {},
     "output_type": "execute_result"
    }
   ],
   "source": [
    "EVALUATION_INTERVAL = 300\n",
    "EPOCHS = 100\n",
    "\n",
    "simple_lstm_model.fit(train_univariate, epochs=EPOCHS,\n",
    "                      steps_per_epoch=EVALUATION_INTERVAL,\n",
    "                      validation_data=val_univariate, validation_steps=50)"
   ]
  },
  {
   "cell_type": "code",
   "execution_count": 29,
   "metadata": {},
   "outputs": [
    {
     "name": "stdout",
     "output_type": "stream",
     "text": [
      "\r",
      "11/11 [==============================] - 0s 26ms/sample - loss: 1.5260\n"
     ]
    },
    {
     "data": {
      "text/plain": [
       "1.5259839296340942"
      ]
     },
     "execution_count": 29,
     "metadata": {},
     "output_type": "execute_result"
    }
   ],
   "source": [
    "score = simple_lstm_model.evaluate(x_val_uni, y_val_uni, verbose=1)\n",
    "score"
   ]
  },
  {
   "cell_type": "code",
   "execution_count": 30,
   "metadata": {},
   "outputs": [
    {
     "name": "stdout",
     "output_type": "stream",
     "text": [
      "WARNING:tensorflow:From /Users/ricmagno/.virtualenvs/Lotto/lib/python3.7/site-packages/tensorflow_core/python/ops/resource_variable_ops.py:1786: calling BaseResourceVariable.__init__ (from tensorflow.python.ops.resource_variable_ops) with constraint is deprecated and will be removed in a future version.\n",
      "Instructions for updating:\n",
      "If using Keras pass *_constraint arguments to layers.\n",
      "INFO:tensorflow:Assets written to: ./Models/Bonus 2nd002/assets\n"
     ]
    }
   ],
   "source": [
    "ver = '002'\n",
    "simple_lstm_model.save('./Models/' + Ball_to_predict + ver)"
   ]
  },
  {
   "cell_type": "markdown",
   "metadata": {},
   "source": [
    "# Predict"
   ]
  },
  {
   "cell_type": "code",
   "execution_count": 32,
   "metadata": {},
   "outputs": [
    {
     "data": {
      "text/plain": [
       "(8, 1)"
      ]
     },
     "execution_count": 32,
     "metadata": {},
     "output_type": "execute_result"
    }
   ],
   "source": [
    "last_result = np.reshape(\n",
    "    np.array(dft[Ball_to_predict].tail(8)),\n",
    "    (8,1))\n",
    "last_result.shape"
   ]
  },
  {
   "cell_type": "code",
   "execution_count": 33,
   "metadata": {},
   "outputs": [
    {
     "data": {
      "text/plain": [
       "array([[39.],\n",
       "       [ 6.],\n",
       "       [26.],\n",
       "       [ 6.],\n",
       "       [ 5.],\n",
       "       [ 2.],\n",
       "       [ 6.],\n",
       "       [25.]])"
      ]
     },
     "execution_count": 33,
     "metadata": {},
     "output_type": "execute_result"
    }
   ],
   "source": [
    "last_result"
   ]
  },
  {
   "cell_type": "code",
   "execution_count": 34,
   "metadata": {},
   "outputs": [
    {
     "data": {
      "text/plain": [
       "array([[ 1.42990654],\n",
       "       [-1.49248709],\n",
       "       [ 0.27866057],\n",
       "       [-1.49248709],\n",
       "       [-1.58104448],\n",
       "       [-1.84671663],\n",
       "       [-1.49248709],\n",
       "       [ 0.19010318]])"
      ]
     },
     "execution_count": 34,
     "metadata": {},
     "output_type": "execute_result"
    }
   ],
   "source": [
    "last_result = ((last_result-uni_train_mean)/uni_train_std)\n",
    "last_result"
   ]
  },
  {
   "cell_type": "code",
   "execution_count": 35,
   "metadata": {},
   "outputs": [
    {
     "data": {
      "text/plain": [
       "<tf.Tensor: shape=(2, 8, 1), dtype=float64, numpy=\n",
       "array([[[ 1.42990654],\n",
       "        [-1.49248709],\n",
       "        [ 0.27866057],\n",
       "        [-1.49248709],\n",
       "        [-1.58104448],\n",
       "        [-1.84671663],\n",
       "        [-1.49248709],\n",
       "        [ 0.19010318]],\n",
       "\n",
       "       [[ 1.42990654],\n",
       "        [-1.49248709],\n",
       "        [ 0.27866057],\n",
       "        [-1.49248709],\n",
       "        [-1.58104448],\n",
       "        [-1.84671663],\n",
       "        [-1.49248709],\n",
       "        [ 0.19010318]]])>"
      ]
     },
     "execution_count": 35,
     "metadata": {},
     "output_type": "execute_result"
    }
   ],
   "source": [
    "last_result = tf.convert_to_tensor(\n",
    "    [last_result,last_result], dtype=np.float64, dtype_hint=None, name=None\n",
    ")\n",
    "last_result"
   ]
  },
  {
   "cell_type": "markdown",
   "metadata": {},
   "source": [
    "# Predict current draw"
   ]
  },
  {
   "cell_type": "code",
   "execution_count": 36,
   "metadata": {},
   "outputs": [
    {
     "data": {
      "text/plain": [
       "array([[41.47309]], dtype=float32)"
      ]
     },
     "execution_count": 36,
     "metadata": {},
     "output_type": "execute_result"
    }
   ],
   "source": [
    "simple_lstm_model.predict(last_result[:1]) * uni_train_std + uni_train_mean"
   ]
  },
  {
   "cell_type": "code",
   "execution_count": null,
   "metadata": {},
   "outputs": [],
   "source": []
  }
 ],
 "metadata": {
  "kernelspec": {
   "display_name": "Python 3",
   "language": "python",
   "name": "python3"
  },
  "language_info": {
   "codemirror_mode": {
    "name": "ipython",
    "version": 3
   },
   "file_extension": ".py",
   "mimetype": "text/x-python",
   "name": "python",
   "nbconvert_exporter": "python",
   "pygments_lexer": "ipython3",
   "version": "3.7.7"
  }
 },
 "nbformat": 4,
 "nbformat_minor": 4
}
