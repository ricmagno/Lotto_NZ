{
 "cells": [
  {
   "cell_type": "markdown",
   "metadata": {},
   "source": [
    "https://www.tensorflow.org/tutorials/structured_data/time_series"
   ]
  },
  {
   "cell_type": "code",
   "execution_count": 39,
   "metadata": {},
   "outputs": [],
   "source": [
    "import tensorflow as tf\n",
    "\n",
    "import matplotlib as mpl\n",
    "import matplotlib.pyplot as plt\n",
    "import numpy as np\n",
    "import os\n",
    "import pandas as pd\n",
    "\n",
    "# mpl.rcParams['figure.figsize'] = (8, 6)\n",
    "# mpl.rcParams['axes.grid'] = False"
   ]
  },
  {
   "cell_type": "markdown",
   "metadata": {},
   "source": [
    "## Functions"
   ]
  },
  {
   "cell_type": "code",
   "execution_count": 40,
   "metadata": {},
   "outputs": [],
   "source": [
    "def univariate_data(dataset, start_index, end_index, history_size, target_size):\n",
    "    data = []\n",
    "    labels = []\n",
    "    \n",
    "    start_index = start_index + history_size\n",
    "    \n",
    "    print(start_index, end_index)\n",
    "    \n",
    "    if end_index is None:\n",
    "        end_index = len(dataset) - target_size\n",
    "\n",
    "    for i in range(start_index, end_index):\n",
    "        indices = range(i-history_size, i)\n",
    "        # Reshape data from (history_size,) to (history_size, 1)\n",
    "        data.append(np.reshape(dataset[indices], (history_size, 1)))\n",
    "        labels.append(dataset[i+target_size])\n",
    "    \n",
    "    return np.array(data), np.array(labels)"
   ]
  },
  {
   "cell_type": "code",
   "execution_count": 41,
   "metadata": {},
   "outputs": [],
   "source": [
    "def create_time_steps(length):\n",
    "    return list(range(-length, 0))"
   ]
  },
  {
   "cell_type": "markdown",
   "metadata": {},
   "source": [
    "## Data"
   ]
  },
  {
   "cell_type": "code",
   "execution_count": 42,
   "metadata": {},
   "outputs": [
    {
     "name": "stdout",
     "output_type": "stream",
     "text": [
      "11\n"
     ]
    }
   ],
   "source": [
    "from load_data import load_data\n",
    "df = load_data('2020-04-01_draw_results')"
   ]
  },
  {
   "cell_type": "code",
   "execution_count": 43,
   "metadata": {},
   "outputs": [
    {
     "data": {
      "text/html": [
       "<div>\n",
       "<style scoped>\n",
       "    .dataframe tbody tr th:only-of-type {\n",
       "        vertical-align: middle;\n",
       "    }\n",
       "\n",
       "    .dataframe tbody tr th {\n",
       "        vertical-align: top;\n",
       "    }\n",
       "\n",
       "    .dataframe thead th {\n",
       "        text-align: right;\n",
       "    }\n",
       "</style>\n",
       "<table border=\"1\" class=\"dataframe\">\n",
       "  <thead>\n",
       "    <tr style=\"text-align: right;\">\n",
       "      <th></th>\n",
       "      <th>Draw</th>\n",
       "      <th>Date</th>\n",
       "      <th>1</th>\n",
       "      <th>2</th>\n",
       "      <th>3</th>\n",
       "      <th>4</th>\n",
       "      <th>5</th>\n",
       "      <th>6</th>\n",
       "      <th>Bonus</th>\n",
       "      <th>Bonus 2nd</th>\n",
       "      <th>Powerball</th>\n",
       "    </tr>\n",
       "  </thead>\n",
       "  <tbody>\n",
       "    <tr>\n",
       "      <th>1943</th>\n",
       "      <td>1944</td>\n",
       "      <td>2020-03-21</td>\n",
       "      <td>9</td>\n",
       "      <td>18</td>\n",
       "      <td>16</td>\n",
       "      <td>20</td>\n",
       "      <td>28</td>\n",
       "      <td>19</td>\n",
       "      <td>7</td>\n",
       "      <td>NaN</td>\n",
       "      <td>5.0</td>\n",
       "    </tr>\n",
       "    <tr>\n",
       "      <th>1944</th>\n",
       "      <td>1945</td>\n",
       "      <td>2020-03-25</td>\n",
       "      <td>17</td>\n",
       "      <td>8</td>\n",
       "      <td>27</td>\n",
       "      <td>7</td>\n",
       "      <td>10</td>\n",
       "      <td>21</td>\n",
       "      <td>29</td>\n",
       "      <td>NaN</td>\n",
       "      <td>7.0</td>\n",
       "    </tr>\n",
       "    <tr>\n",
       "      <th>1945</th>\n",
       "      <td>1946</td>\n",
       "      <td>2020-03-28</td>\n",
       "      <td>3</td>\n",
       "      <td>2</td>\n",
       "      <td>39</td>\n",
       "      <td>19</td>\n",
       "      <td>35</td>\n",
       "      <td>37</td>\n",
       "      <td>23</td>\n",
       "      <td>NaN</td>\n",
       "      <td>10.0</td>\n",
       "    </tr>\n",
       "    <tr>\n",
       "      <th>1946</th>\n",
       "      <td>1947</td>\n",
       "      <td>2020-04-01</td>\n",
       "      <td>8</td>\n",
       "      <td>21</td>\n",
       "      <td>25</td>\n",
       "      <td>28</td>\n",
       "      <td>32</td>\n",
       "      <td>35</td>\n",
       "      <td>18</td>\n",
       "      <td>0.0</td>\n",
       "      <td>3.0</td>\n",
       "    </tr>\n",
       "  </tbody>\n",
       "</table>\n",
       "</div>"
      ],
      "text/plain": [
       "      Draw       Date   1   2   3   4   5   6  Bonus  Bonus 2nd  Powerball\n",
       "1943  1944 2020-03-21   9  18  16  20  28  19      7        NaN        5.0\n",
       "1944  1945 2020-03-25  17   8  27   7  10  21     29        NaN        7.0\n",
       "1945  1946 2020-03-28   3   2  39  19  35  37     23        NaN       10.0\n",
       "1946  1947 2020-04-01   8  21  25  28  32  35     18        0.0        3.0"
      ]
     },
     "execution_count": 43,
     "metadata": {},
     "output_type": "execute_result"
    }
   ],
   "source": [
    "df.tail(4)"
   ]
  },
  {
   "cell_type": "code",
   "execution_count": 44,
   "metadata": {},
   "outputs": [
    {
     "data": {
      "text/html": [
       "<div>\n",
       "<style scoped>\n",
       "    .dataframe tbody tr th:only-of-type {\n",
       "        vertical-align: middle;\n",
       "    }\n",
       "\n",
       "    .dataframe tbody tr th {\n",
       "        vertical-align: top;\n",
       "    }\n",
       "\n",
       "    .dataframe thead th {\n",
       "        text-align: right;\n",
       "    }\n",
       "</style>\n",
       "<table border=\"1\" class=\"dataframe\">\n",
       "  <thead>\n",
       "    <tr style=\"text-align: right;\">\n",
       "      <th></th>\n",
       "      <th>Draw</th>\n",
       "      <th>Date</th>\n",
       "      <th>1</th>\n",
       "      <th>2</th>\n",
       "      <th>3</th>\n",
       "      <th>4</th>\n",
       "      <th>5</th>\n",
       "      <th>6</th>\n",
       "      <th>Bonus</th>\n",
       "      <th>Bonus 2nd</th>\n",
       "      <th>Powerball</th>\n",
       "    </tr>\n",
       "  </thead>\n",
       "  <tbody>\n",
       "    <tr>\n",
       "      <th>1943</th>\n",
       "      <td>1944</td>\n",
       "      <td>2020-03-21</td>\n",
       "      <td>9</td>\n",
       "      <td>16</td>\n",
       "      <td>18</td>\n",
       "      <td>19</td>\n",
       "      <td>20</td>\n",
       "      <td>28</td>\n",
       "      <td>7</td>\n",
       "      <td>NaN</td>\n",
       "      <td>5.0</td>\n",
       "    </tr>\n",
       "    <tr>\n",
       "      <th>1944</th>\n",
       "      <td>1945</td>\n",
       "      <td>2020-03-25</td>\n",
       "      <td>7</td>\n",
       "      <td>8</td>\n",
       "      <td>10</td>\n",
       "      <td>17</td>\n",
       "      <td>21</td>\n",
       "      <td>27</td>\n",
       "      <td>29</td>\n",
       "      <td>NaN</td>\n",
       "      <td>7.0</td>\n",
       "    </tr>\n",
       "    <tr>\n",
       "      <th>1945</th>\n",
       "      <td>1946</td>\n",
       "      <td>2020-03-28</td>\n",
       "      <td>2</td>\n",
       "      <td>3</td>\n",
       "      <td>19</td>\n",
       "      <td>35</td>\n",
       "      <td>37</td>\n",
       "      <td>39</td>\n",
       "      <td>23</td>\n",
       "      <td>NaN</td>\n",
       "      <td>10.0</td>\n",
       "    </tr>\n",
       "    <tr>\n",
       "      <th>1946</th>\n",
       "      <td>1947</td>\n",
       "      <td>2020-04-01</td>\n",
       "      <td>8</td>\n",
       "      <td>21</td>\n",
       "      <td>25</td>\n",
       "      <td>28</td>\n",
       "      <td>32</td>\n",
       "      <td>35</td>\n",
       "      <td>18</td>\n",
       "      <td>0.0</td>\n",
       "      <td>3.0</td>\n",
       "    </tr>\n",
       "  </tbody>\n",
       "</table>\n",
       "</div>"
      ],
      "text/plain": [
       "      Draw       Date  1   2   3   4   5   6  Bonus  Bonus 2nd  Powerball\n",
       "1943  1944 2020-03-21  9  16  18  19  20  28      7        NaN        5.0\n",
       "1944  1945 2020-03-25  7   8  10  17  21  27     29        NaN        7.0\n",
       "1945  1946 2020-03-28  2   3  19  35  37  39     23        NaN       10.0\n",
       "1946  1947 2020-04-01  8  21  25  28  32  35     18        0.0        3.0"
      ]
     },
     "execution_count": 44,
     "metadata": {},
     "output_type": "execute_result"
    }
   ],
   "source": [
    "sort_balls = True\n",
    "\n",
    "if sort_balls: \n",
    "    df[['1','2','3','4','5','6']]=df[['1','2','3','4','5','6']].apply(np.sort,axis=1, raw=True, result_type='broadcast')\n",
    "df.tail(4)"
   ]
  },
  {
   "cell_type": "code",
   "execution_count": 45,
   "metadata": {},
   "outputs": [
    {
     "data": {
      "text/html": [
       "<div>\n",
       "<style scoped>\n",
       "    .dataframe tbody tr th:only-of-type {\n",
       "        vertical-align: middle;\n",
       "    }\n",
       "\n",
       "    .dataframe tbody tr th {\n",
       "        vertical-align: top;\n",
       "    }\n",
       "\n",
       "    .dataframe thead th {\n",
       "        text-align: right;\n",
       "    }\n",
       "</style>\n",
       "<table border=\"1\" class=\"dataframe\">\n",
       "  <thead>\n",
       "    <tr style=\"text-align: right;\">\n",
       "      <th></th>\n",
       "      <th>Draw</th>\n",
       "      <th>Date</th>\n",
       "      <th>1</th>\n",
       "      <th>2</th>\n",
       "      <th>3</th>\n",
       "      <th>4</th>\n",
       "      <th>5</th>\n",
       "      <th>6</th>\n",
       "      <th>Bonus</th>\n",
       "      <th>Bonus 2nd</th>\n",
       "      <th>Powerball</th>\n",
       "    </tr>\n",
       "  </thead>\n",
       "  <tbody>\n",
       "    <tr>\n",
       "      <th>1944</th>\n",
       "      <td>1945</td>\n",
       "      <td>2020-03-25</td>\n",
       "      <td>7</td>\n",
       "      <td>8</td>\n",
       "      <td>10</td>\n",
       "      <td>17</td>\n",
       "      <td>21</td>\n",
       "      <td>27</td>\n",
       "      <td>29</td>\n",
       "      <td>NaN</td>\n",
       "      <td>7.0</td>\n",
       "    </tr>\n",
       "    <tr>\n",
       "      <th>1945</th>\n",
       "      <td>1946</td>\n",
       "      <td>2020-03-28</td>\n",
       "      <td>2</td>\n",
       "      <td>3</td>\n",
       "      <td>19</td>\n",
       "      <td>35</td>\n",
       "      <td>37</td>\n",
       "      <td>39</td>\n",
       "      <td>23</td>\n",
       "      <td>NaN</td>\n",
       "      <td>10.0</td>\n",
       "    </tr>\n",
       "  </tbody>\n",
       "</table>\n",
       "</div>"
      ],
      "text/plain": [
       "      Draw       Date  1  2   3   4   5   6  Bonus  Bonus 2nd  Powerball\n",
       "1944  1945 2020-03-25  7  8  10  17  21  27     29        NaN        7.0\n",
       "1945  1946 2020-03-28  2  3  19  35  37  39     23        NaN       10.0"
      ]
     },
     "execution_count": 45,
     "metadata": {},
     "output_type": "execute_result"
    }
   ],
   "source": [
    "# Drops the last Draw resul for test only\n",
    "# df.loc[df['Draw'] == 1947]\n",
    "\n",
    "df = df[df['Draw'] != 1947]\n",
    "df.tail(2)"
   ]
  },
  {
   "cell_type": "markdown",
   "metadata": {},
   "source": [
    "## Ball to Predict"
   ]
  },
  {
   "cell_type": "code",
   "execution_count": 46,
   "metadata": {},
   "outputs": [],
   "source": [
    "univariate = True"
   ]
  },
  {
   "cell_type": "markdown",
   "metadata": {},
   "source": [
    "For univariate "
   ]
  },
  {
   "cell_type": "code",
   "execution_count": 48,
   "metadata": {},
   "outputs": [],
   "source": [
    "# Ball_to_predict = '1'\n",
    "# Ball_to_predict = '2'\n",
    "# Ball_to_predict = '3'\n",
    "# Ball_to_predict = '4'\n",
    "# Ball_to_predict = '5'\n",
    "# Ball_to_predict = '6'\n",
    "Ball_to_predict = 'Bonus'\n",
    "#Ball_to_predict = 'Bonus 2nd'\n",
    "# Ball_to_predict = 'Powerball'"
   ]
  },
  {
   "cell_type": "markdown",
   "metadata": {},
   "source": [
    "For Multi-variate"
   ]
  },
  {
   "cell_type": "code",
   "execution_count": 49,
   "metadata": {},
   "outputs": [],
   "source": [
    "features_considered = [ '1', '2', '3', '4', '5', '6']"
   ]
  },
  {
   "cell_type": "code",
   "execution_count": 50,
   "metadata": {},
   "outputs": [],
   "source": [
    "if univariate == True:\n",
    "    features_considered = [Ball_to_predict]\n",
    "    \n",
    "features_considered = features_considered"
   ]
  },
  {
   "cell_type": "code",
   "execution_count": 51,
   "metadata": {},
   "outputs": [],
   "source": [
    "# dft = df[['Date']+features_considered]\n",
    "dft = df[features_considered]"
   ]
  },
  {
   "cell_type": "code",
   "execution_count": 52,
   "metadata": {},
   "outputs": [
    {
     "data": {
      "text/html": [
       "<div>\n",
       "<style scoped>\n",
       "    .dataframe tbody tr th:only-of-type {\n",
       "        vertical-align: middle;\n",
       "    }\n",
       "\n",
       "    .dataframe tbody tr th {\n",
       "        vertical-align: top;\n",
       "    }\n",
       "\n",
       "    .dataframe thead th {\n",
       "        text-align: right;\n",
       "    }\n",
       "</style>\n",
       "<table border=\"1\" class=\"dataframe\">\n",
       "  <thead>\n",
       "    <tr style=\"text-align: right;\">\n",
       "      <th></th>\n",
       "      <th>Bonus</th>\n",
       "    </tr>\n",
       "  </thead>\n",
       "  <tbody>\n",
       "    <tr>\n",
       "      <th>0</th>\n",
       "      <td>30</td>\n",
       "    </tr>\n",
       "    <tr>\n",
       "      <th>1</th>\n",
       "      <td>38</td>\n",
       "    </tr>\n",
       "    <tr>\n",
       "      <th>2</th>\n",
       "      <td>38</td>\n",
       "    </tr>\n",
       "    <tr>\n",
       "      <th>3</th>\n",
       "      <td>14</td>\n",
       "    </tr>\n",
       "    <tr>\n",
       "      <th>4</th>\n",
       "      <td>15</td>\n",
       "    </tr>\n",
       "    <tr>\n",
       "      <th>...</th>\n",
       "      <td>...</td>\n",
       "    </tr>\n",
       "    <tr>\n",
       "      <th>1941</th>\n",
       "      <td>37</td>\n",
       "    </tr>\n",
       "    <tr>\n",
       "      <th>1942</th>\n",
       "      <td>32</td>\n",
       "    </tr>\n",
       "    <tr>\n",
       "      <th>1943</th>\n",
       "      <td>7</td>\n",
       "    </tr>\n",
       "    <tr>\n",
       "      <th>1944</th>\n",
       "      <td>29</td>\n",
       "    </tr>\n",
       "    <tr>\n",
       "      <th>1945</th>\n",
       "      <td>23</td>\n",
       "    </tr>\n",
       "  </tbody>\n",
       "</table>\n",
       "<p>1946 rows × 1 columns</p>\n",
       "</div>"
      ],
      "text/plain": [
       "      Bonus\n",
       "0        30\n",
       "1        38\n",
       "2        38\n",
       "3        14\n",
       "4        15\n",
       "...     ...\n",
       "1941     37\n",
       "1942     32\n",
       "1943      7\n",
       "1944     29\n",
       "1945     23\n",
       "\n",
       "[1946 rows x 1 columns]"
      ]
     },
     "execution_count": 52,
     "metadata": {},
     "output_type": "execute_result"
    }
   ],
   "source": [
    "for i in features_considered:\n",
    "    dft = dft.dropna(subset=[i])\n",
    "    dft = dft[dft[i] != 0]\n",
    "dft"
   ]
  },
  {
   "cell_type": "code",
   "execution_count": 53,
   "metadata": {},
   "outputs": [
    {
     "name": "stdout",
     "output_type": "stream",
     "text": [
      "Int64Index([   0,    1,    2,    3,    4,    5,    6,    7,    8,    9,\n",
      "            ...\n",
      "            1936, 1937, 1938, 1939, 1940, 1941, 1942, 1943, 1944, 1945],\n",
      "           dtype='int64', length=1946)\n"
     ]
    },
    {
     "data": {
      "text/html": [
       "<div>\n",
       "<style scoped>\n",
       "    .dataframe tbody tr th:only-of-type {\n",
       "        vertical-align: middle;\n",
       "    }\n",
       "\n",
       "    .dataframe tbody tr th {\n",
       "        vertical-align: top;\n",
       "    }\n",
       "\n",
       "    .dataframe thead th {\n",
       "        text-align: right;\n",
       "    }\n",
       "</style>\n",
       "<table border=\"1\" class=\"dataframe\">\n",
       "  <thead>\n",
       "    <tr style=\"text-align: right;\">\n",
       "      <th></th>\n",
       "      <th>Bonus</th>\n",
       "    </tr>\n",
       "  </thead>\n",
       "  <tbody>\n",
       "    <tr>\n",
       "      <th>1941</th>\n",
       "      <td>37</td>\n",
       "    </tr>\n",
       "    <tr>\n",
       "      <th>1942</th>\n",
       "      <td>32</td>\n",
       "    </tr>\n",
       "    <tr>\n",
       "      <th>1943</th>\n",
       "      <td>7</td>\n",
       "    </tr>\n",
       "    <tr>\n",
       "      <th>1944</th>\n",
       "      <td>29</td>\n",
       "    </tr>\n",
       "    <tr>\n",
       "      <th>1945</th>\n",
       "      <td>23</td>\n",
       "    </tr>\n",
       "  </tbody>\n",
       "</table>\n",
       "</div>"
      ],
      "text/plain": [
       "      Bonus\n",
       "1941     37\n",
       "1942     32\n",
       "1943      7\n",
       "1944     29\n",
       "1945     23"
      ]
     },
     "execution_count": 53,
     "metadata": {},
     "output_type": "execute_result"
    }
   ],
   "source": [
    "uni_data = dft\n",
    "# uni_data.index = dft['Date']\n",
    "print(uni_data.index)\n",
    "uni_data.tail()"
   ]
  },
  {
   "cell_type": "code",
   "execution_count": 54,
   "metadata": {},
   "outputs": [
    {
     "data": {
      "text/plain": [
       "array([<matplotlib.axes._subplots.AxesSubplot object at 0x14a0fa6d0>],\n",
       "      dtype=object)"
      ]
     },
     "execution_count": 54,
     "metadata": {},
     "output_type": "execute_result"
    },
    {
     "data": {
      "image/png": "[encoded data removed]",
      "text/plain": [
       "<Figure size 432x288 with 1 Axes>"
      ]
     },
     "metadata": {
      "needs_background": "light"
     },
     "output_type": "display_data"
    }
   ],
   "source": [
    "uni_data.plot(subplots=True)"
   ]
  },
  {
   "cell_type": "code",
   "execution_count": 55,
   "metadata": {},
   "outputs": [],
   "source": [
    "uni_data = uni_data.values"
   ]
  },
  {
   "cell_type": "code",
   "execution_count": 56,
   "metadata": {},
   "outputs": [
    {
     "name": "stdout",
     "output_type": "stream",
     "text": [
      "1946 1556\n"
     ]
    }
   ],
   "source": [
    "TRAIN_SPLIT = int(len(dft.index)*.8)\n",
    "#TRAIN_SPLIT = int(dft['Draw'].loc[df['Draw'].idxmax()]*.8)\n",
    "print( len(dft.index*.7),TRAIN_SPLIT)"
   ]
  },
  {
   "cell_type": "code",
   "execution_count": 57,
   "metadata": {},
   "outputs": [],
   "source": [
    "tf.random.set_seed(13)"
   ]
  },
  {
   "cell_type": "code",
   "execution_count": 58,
   "metadata": {},
   "outputs": [
    {
     "name": "stdout",
     "output_type": "stream",
     "text": [
      "Min: 1 \n",
      "Max: 40\n"
     ]
    }
   ],
   "source": [
    "print('Min:',uni_data[:TRAIN_SPLIT].min(),'\\nMax:',uni_data[:TRAIN_SPLIT].max())"
   ]
  },
  {
   "cell_type": "code",
   "execution_count": 59,
   "metadata": {},
   "outputs": [
    {
     "data": {
      "text/plain": [
       "20.226221079691516"
      ]
     },
     "execution_count": 59,
     "metadata": {},
     "output_type": "execute_result"
    }
   ],
   "source": [
    "uni_train_mean = uni_data[:TRAIN_SPLIT].mean()\n",
    "uni_train_mean"
   ]
  },
  {
   "cell_type": "code",
   "execution_count": 60,
   "metadata": {},
   "outputs": [
    {
     "data": {
      "text/plain": [
       "11.581286712413869"
      ]
     },
     "execution_count": 60,
     "metadata": {},
     "output_type": "execute_result"
    }
   ],
   "source": [
    "uni_train_std = uni_data[:TRAIN_SPLIT].std()\n",
    "uni_train_std"
   ]
  },
  {
   "cell_type": "code",
   "execution_count": 61,
   "metadata": {},
   "outputs": [
    {
     "name": "stdout",
     "output_type": "stream",
     "text": [
      "Min: 1 \n",
      "Max: 40\n"
     ]
    }
   ],
   "source": [
    "print('Min:',uni_data[:TRAIN_SPLIT].min(),'\\nMax:',uni_data[:TRAIN_SPLIT].max())"
   ]
  },
  {
   "cell_type": "code",
   "execution_count": 62,
   "metadata": {},
   "outputs": [
    {
     "data": {
      "text/plain": [
       "array([[ 0.84392859],\n",
       "       [ 1.53469812],\n",
       "       [ 1.53469812],\n",
       "       ...,\n",
       "       [-1.14203382],\n",
       "       [ 0.75758239],\n",
       "       [ 0.23950525]])"
      ]
     },
     "execution_count": 62,
     "metadata": {},
     "output_type": "execute_result"
    }
   ],
   "source": [
    "uni_data = (uni_data - uni_train_mean) / uni_train_std\n",
    "uni_data"
   ]
  },
  {
   "cell_type": "code",
   "execution_count": 63,
   "metadata": {},
   "outputs": [
    {
     "name": "stdout",
     "output_type": "stream",
     "text": [
      "8 1556\n"
     ]
    }
   ],
   "source": [
    "univariate_past_history = 8\n",
    "univariate_future_target = 0\n",
    "\n",
    "x_train_uni, y_train_uni = univariate_data(uni_data, 0, TRAIN_SPLIT,\n",
    "                                           univariate_past_history,\n",
    "                                           univariate_future_target)"
   ]
  },
  {
   "cell_type": "code",
   "execution_count": 64,
   "metadata": {},
   "outputs": [
    {
     "name": "stdout",
     "output_type": "stream",
     "text": [
      "1564 None\n"
     ]
    }
   ],
   "source": [
    "x_val_uni, y_val_uni = univariate_data(uni_data, TRAIN_SPLIT, None,\n",
    "                                       univariate_past_history,\n",
    "                                       univariate_future_target)"
   ]
  },
  {
   "cell_type": "code",
   "execution_count": 65,
   "metadata": {},
   "outputs": [
    {
     "name": "stdout",
     "output_type": "stream",
     "text": [
      "(1548, 8, 1) (1548, 1)\n"
     ]
    }
   ],
   "source": [
    "print(x_train_uni.shape, y_train_uni.shape)"
   ]
  },
  {
   "cell_type": "code",
   "execution_count": 66,
   "metadata": {},
   "outputs": [
    {
     "name": "stdout",
     "output_type": "stream",
     "text": [
      "(382, 8, 1) (382, 1)\n"
     ]
    }
   ],
   "source": [
    "print(x_val_uni.shape, y_val_uni.shape)"
   ]
  },
  {
   "cell_type": "code",
   "execution_count": 67,
   "metadata": {},
   "outputs": [],
   "source": [
    "BATCH_SIZE = 256\n",
    "BUFFER_SIZE = 300\n",
    "\n",
    "train_univariate = tf.data.Dataset.from_tensor_slices((x_train_uni, y_train_uni))\n",
    "train_univariate = train_univariate.cache().shuffle(BUFFER_SIZE).batch(BATCH_SIZE).repeat()\n",
    "\n",
    "val_univariate = tf.data.Dataset.from_tensor_slices((x_val_uni, y_val_uni))\n",
    "val_univariate = val_univariate.batch(BATCH_SIZE).repeat()"
   ]
  },
  {
   "cell_type": "code",
   "execution_count": 68,
   "metadata": {},
   "outputs": [],
   "source": [
    "simple_lstm_model = tf.keras.models.Sequential([\n",
    "    tf.keras.layers.LSTM(8, input_shape=x_train_uni.shape[-2:]),\n",
    "    tf.keras.layers.Dense(1)])\n",
    "\n",
    "simple_lstm_model.compile(optimizer='adam', loss='mae')"
   ]
  },
  {
   "cell_type": "code",
   "execution_count": 69,
   "metadata": {},
   "outputs": [
    {
     "name": "stdout",
     "output_type": "stream",
     "text": [
      "(256, 1)\n"
     ]
    }
   ],
   "source": [
    "for x, y in val_univariate.take(1):\n",
    "    print(simple_lstm_model.predict(x).shape)"
   ]
  },
  {
   "cell_type": "code",
   "execution_count": 70,
   "metadata": {},
   "outputs": [
    {
     "name": "stdout",
     "output_type": "stream",
     "text": [
      "Train for 300 steps, validate for 50 steps\n",
      "Epoch 1/100\n",
      "300/300 [==============================] - 3s 9ms/step - loss: 0.8567 - val_loss: 0.8809\n",
      "Epoch 2/100\n",
      "300/300 [==============================] - 1s 5ms/step - loss: 0.8571 - val_loss: 0.8834\n",
      "Epoch 3/100\n",
      "300/300 [==============================] - 1s 4ms/step - loss: 0.8539 - val_loss: 0.8838\n",
      "Epoch 4/100\n",
      "300/300 [==============================] - 1s 5ms/step - loss: 0.8607 - val_loss: 0.8867\n",
      "Epoch 5/100\n",
      "300/300 [==============================] - 1s 5ms/step - loss: 0.8553 - val_loss: 0.8897\n",
      "Epoch 6/100\n",
      "300/300 [==============================] - 1s 4ms/step - loss: 0.8582 - val_loss: 0.8949\n",
      "Epoch 7/100\n",
      "300/300 [==============================] - 1s 4ms/step - loss: 0.8561 - val_loss: 0.8995\n",
      "Epoch 8/100\n",
      "300/300 [==============================] - 1s 4ms/step - loss: 0.8637 - val_loss: 0.8968\n",
      "Epoch 9/100\n",
      "300/300 [==============================] - 1s 4ms/step - loss: 0.8560 - val_loss: 0.8989\n",
      "Epoch 10/100\n",
      "300/300 [==============================] - 1s 4ms/step - loss: 0.8564 - val_loss: 0.8990\n",
      "Epoch 11/100\n",
      "300/300 [==============================] - 1s 5ms/step - loss: 0.8536 - val_loss: 0.8977\n",
      "Epoch 12/100\n",
      "300/300 [==============================] - 1s 5ms/step - loss: 0.8531 - val_loss: 0.9006\n",
      "Epoch 13/100\n",
      "300/300 [==============================] - 1s 5ms/step - loss: 0.8533 - val_loss: 0.9011\n",
      "Epoch 14/100\n",
      "300/300 [==============================] - 1s 5ms/step - loss: 0.8543 - val_loss: 0.8997\n",
      "Epoch 15/100\n",
      "300/300 [==============================] - 1s 4ms/step - loss: 0.8485 - val_loss: 0.8991\n",
      "Epoch 16/100\n",
      "300/300 [==============================] - 1s 4ms/step - loss: 0.8548 - val_loss: 0.8995\n",
      "Epoch 17/100\n",
      "300/300 [==============================] - 1s 4ms/step - loss: 0.8462 - val_loss: 0.9008\n",
      "Epoch 18/100\n",
      "300/300 [==============================] - 1s 4ms/step - loss: 0.8549 - val_loss: 0.9005\n",
      "Epoch 19/100\n",
      "300/300 [==============================] - 1s 4ms/step - loss: 0.8514 - val_loss: 0.8982\n",
      "Epoch 20/100\n",
      "300/300 [==============================] - 1s 4ms/step - loss: 0.8479 - val_loss: 0.9027\n",
      "Epoch 21/100\n",
      "300/300 [==============================] - 1s 4ms/step - loss: 0.8490 - val_loss: 0.8992\n",
      "Epoch 22/100\n",
      "300/300 [==============================] - 1s 4ms/step - loss: 0.8475 - val_loss: 0.9013\n",
      "Epoch 23/100\n",
      "300/300 [==============================] - 1s 4ms/step - loss: 0.8530 - val_loss: 0.8978\n",
      "Epoch 24/100\n",
      "300/300 [==============================] - 1s 4ms/step - loss: 0.8462 - val_loss: 0.8983\n",
      "Epoch 25/100\n",
      "300/300 [==============================] - 1s 4ms/step - loss: 0.8500 - val_loss: 0.8996\n",
      "Epoch 26/100\n",
      "300/300 [==============================] - 1s 4ms/step - loss: 0.8505 - val_loss: 0.8972\n",
      "Epoch 27/100\n",
      "300/300 [==============================] - 1s 4ms/step - loss: 0.8466 - val_loss: 0.8986\n",
      "Epoch 28/100\n",
      "300/300 [==============================] - 1s 4ms/step - loss: 0.8434 - val_loss: 0.8967\n",
      "Epoch 29/100\n",
      "300/300 [==============================] - 1s 4ms/step - loss: 0.8452 - val_loss: 0.8972\n",
      "Epoch 30/100\n",
      "300/300 [==============================] - 1s 4ms/step - loss: 0.8436 - val_loss: 0.9013\n",
      "Epoch 31/100\n",
      "300/300 [==============================] - 1s 4ms/step - loss: 0.8432 - val_loss: 0.9005\n",
      "Epoch 32/100\n",
      "300/300 [==============================] - 1s 4ms/step - loss: 0.8427 - val_loss: 0.9051\n",
      "Epoch 33/100\n",
      "300/300 [==============================] - 1s 5ms/step - loss: 0.8441 - val_loss: 0.9008\n",
      "Epoch 34/100\n",
      "300/300 [==============================] - 1s 5ms/step - loss: 0.8428 - val_loss: 0.8995\n",
      "Epoch 35/100\n",
      "300/300 [==============================] - 1s 5ms/step - loss: 0.8413 - val_loss: 0.8993\n",
      "Epoch 36/100\n",
      "300/300 [==============================] - 1s 5ms/step - loss: 0.8409 - val_loss: 0.8989\n",
      "Epoch 37/100\n",
      "300/300 [==============================] - 2s 5ms/step - loss: 0.8306 - val_loss: 0.9020\n",
      "Epoch 38/100\n",
      "300/300 [==============================] - 1s 5ms/step - loss: 0.8287 - val_loss: 0.8999\n",
      "Epoch 39/100\n",
      "300/300 [==============================] - 1s 4ms/step - loss: 0.8342 - val_loss: 0.9069\n",
      "Epoch 40/100\n",
      "300/300 [==============================] - 1s 4ms/step - loss: 0.8329 - val_loss: 0.9053\n",
      "Epoch 41/100\n",
      "300/300 [==============================] - 1s 4ms/step - loss: 0.8274 - val_loss: 0.9045\n",
      "Epoch 42/100\n",
      "300/300 [==============================] - 1s 4ms/step - loss: 0.8318 - val_loss: 0.9063\n",
      "Epoch 43/100\n",
      "300/300 [==============================] - 1s 4ms/step - loss: 0.8358 - val_loss: 0.9064\n",
      "Epoch 44/100\n",
      "300/300 [==============================] - 1s 4ms/step - loss: 0.8253 - val_loss: 0.9074\n",
      "Epoch 45/100\n",
      "300/300 [==============================] - 1s 4ms/step - loss: 0.8233 - val_loss: 0.9067\n",
      "Epoch 46/100\n",
      "300/300 [==============================] - 1s 4ms/step - loss: 0.8224 - val_loss: 0.9112\n",
      "Epoch 47/100\n",
      "300/300 [==============================] - 1s 4ms/step - loss: 0.8190 - val_loss: 0.9151\n",
      "Epoch 48/100\n",
      "300/300 [==============================] - 1s 4ms/step - loss: 0.8157 - val_loss: 0.9117\n",
      "Epoch 49/100\n",
      "300/300 [==============================] - 1s 4ms/step - loss: 0.8149 - val_loss: 0.9136\n",
      "Epoch 50/100\n",
      "300/300 [==============================] - 1s 4ms/step - loss: 0.8141 - val_loss: 0.9145\n",
      "Epoch 51/100\n",
      "300/300 [==============================] - 1s 4ms/step - loss: 0.8138 - val_loss: 0.9185\n",
      "Epoch 52/100\n",
      "300/300 [==============================] - 1s 4ms/step - loss: 0.8076 - val_loss: 0.9178\n",
      "Epoch 53/100\n",
      "300/300 [==============================] - 1s 4ms/step - loss: 0.8094 - val_loss: 0.9213\n",
      "Epoch 54/100\n",
      "300/300 [==============================] - 1s 4ms/step - loss: 0.8074 - val_loss: 0.9217\n",
      "Epoch 55/100\n",
      "300/300 [==============================] - 1s 4ms/step - loss: 0.8056 - val_loss: 0.9207\n",
      "Epoch 56/100\n",
      "300/300 [==============================] - 1s 4ms/step - loss: 0.7992 - val_loss: 0.9254\n",
      "Epoch 57/100\n",
      "300/300 [==============================] - 1s 4ms/step - loss: 0.8023 - val_loss: 0.9210\n",
      "Epoch 58/100\n",
      "300/300 [==============================] - 1s 4ms/step - loss: 0.7940 - val_loss: 0.9211\n",
      "Epoch 59/100\n",
      "300/300 [==============================] - 1s 4ms/step - loss: 0.7929 - val_loss: 0.9204\n",
      "Epoch 60/100\n",
      "300/300 [==============================] - 1s 4ms/step - loss: 0.7953 - val_loss: 0.9206\n",
      "Epoch 61/100\n",
      "300/300 [==============================] - 1s 4ms/step - loss: 0.7904 - val_loss: 0.9241\n",
      "Epoch 62/100\n",
      "300/300 [==============================] - 1s 4ms/step - loss: 0.7928 - val_loss: 0.9278\n",
      "Epoch 63/100\n",
      "300/300 [==============================] - 1s 4ms/step - loss: 0.7946 - val_loss: 0.9287\n",
      "Epoch 64/100\n",
      "300/300 [==============================] - 1s 4ms/step - loss: 0.7887 - val_loss: 0.9302\n",
      "Epoch 65/100\n",
      "300/300 [==============================] - 1s 4ms/step - loss: 0.7958 - val_loss: 0.9281\n",
      "Epoch 66/100\n",
      "300/300 [==============================] - 1s 4ms/step - loss: 0.7897 - val_loss: 0.9353\n",
      "Epoch 67/100\n",
      "300/300 [==============================] - 1s 4ms/step - loss: 0.7834 - val_loss: 0.9320\n",
      "Epoch 68/100\n",
      "300/300 [==============================] - 1s 4ms/step - loss: 0.7890 - val_loss: 0.9370\n",
      "Epoch 69/100\n",
      "300/300 [==============================] - 1s 4ms/step - loss: 0.7845 - val_loss: 0.9362\n",
      "Epoch 70/100\n",
      "300/300 [==============================] - 1s 4ms/step - loss: 0.7793 - val_loss: 0.9358\n",
      "Epoch 71/100\n",
      "300/300 [==============================] - 1s 4ms/step - loss: 0.7856 - val_loss: 0.9347\n",
      "Epoch 72/100\n",
      "300/300 [==============================] - 1s 4ms/step - loss: 0.7832 - val_loss: 0.9374\n",
      "Epoch 73/100\n",
      "300/300 [==============================] - 1s 4ms/step - loss: 0.7837 - val_loss: 0.9412\n",
      "Epoch 74/100\n",
      "300/300 [==============================] - 1s 4ms/step - loss: 0.7760 - val_loss: 0.9373\n",
      "Epoch 75/100\n",
      "300/300 [==============================] - 1s 4ms/step - loss: 0.7711 - val_loss: 0.9384\n",
      "Epoch 76/100\n",
      "300/300 [==============================] - 1s 4ms/step - loss: 0.7725 - val_loss: 0.9433\n",
      "Epoch 77/100\n",
      "300/300 [==============================] - 1s 4ms/step - loss: 0.7752 - val_loss: 0.9421\n",
      "Epoch 78/100\n",
      "300/300 [==============================] - 1s 4ms/step - loss: 0.7679 - val_loss: 0.9436\n",
      "Epoch 79/100\n",
      "300/300 [==============================] - 1s 4ms/step - loss: 0.7625 - val_loss: 0.9453\n",
      "Epoch 80/100\n",
      "300/300 [==============================] - 1s 4ms/step - loss: 0.7646 - val_loss: 0.9476\n"
     ]
    },
    {
     "name": "stdout",
     "output_type": "stream",
     "text": [
      "Epoch 81/100\n",
      "300/300 [==============================] - 1s 4ms/step - loss: 0.7630 - val_loss: 0.9487\n",
      "Epoch 82/100\n",
      "300/300 [==============================] - 1s 4ms/step - loss: 0.7626 - val_loss: 0.9494\n",
      "Epoch 83/100\n",
      "300/300 [==============================] - 1s 4ms/step - loss: 0.7621 - val_loss: 0.9484\n",
      "Epoch 84/100\n",
      "300/300 [==============================] - 1s 4ms/step - loss: 0.7572 - val_loss: 0.9567\n",
      "Epoch 85/100\n",
      "300/300 [==============================] - 1s 4ms/step - loss: 0.7578 - val_loss: 0.9595\n",
      "Epoch 86/100\n",
      "300/300 [==============================] - 1s 4ms/step - loss: 0.7473 - val_loss: 0.9543\n",
      "Epoch 87/100\n",
      "300/300 [==============================] - 1s 4ms/step - loss: 0.7556 - val_loss: 0.9555\n",
      "Epoch 88/100\n",
      "300/300 [==============================] - 1s 4ms/step - loss: 0.7536 - val_loss: 0.9570\n",
      "Epoch 89/100\n",
      "300/300 [==============================] - 1s 4ms/step - loss: 0.7502 - val_loss: 0.9564\n",
      "Epoch 90/100\n",
      "300/300 [==============================] - 1s 4ms/step - loss: 0.7461 - val_loss: 0.9567\n",
      "Epoch 91/100\n",
      "300/300 [==============================] - 1s 4ms/step - loss: 0.7427 - val_loss: 0.9527\n",
      "Epoch 92/100\n",
      "300/300 [==============================] - 1s 4ms/step - loss: 0.7484 - val_loss: 0.9567\n",
      "Epoch 93/100\n",
      "300/300 [==============================] - 1s 4ms/step - loss: 0.7388 - val_loss: 0.9604\n",
      "Epoch 94/100\n",
      "300/300 [==============================] - 1s 4ms/step - loss: 0.7474 - val_loss: 0.9597\n",
      "Epoch 95/100\n",
      "300/300 [==============================] - 1s 4ms/step - loss: 0.7386 - val_loss: 0.9594\n",
      "Epoch 96/100\n",
      "300/300 [==============================] - 1s 4ms/step - loss: 0.7453 - val_loss: 0.9637\n",
      "Epoch 97/100\n",
      "300/300 [==============================] - 1s 4ms/step - loss: 0.7363 - val_loss: 0.9603\n",
      "Epoch 98/100\n",
      "300/300 [==============================] - 1s 4ms/step - loss: 0.7375 - val_loss: 0.9660\n",
      "Epoch 99/100\n",
      "300/300 [==============================] - 1s 4ms/step - loss: 0.7407 - val_loss: 0.9631\n",
      "Epoch 100/100\n",
      "300/300 [==============================] - 1s 4ms/step - loss: 0.7345 - val_loss: 0.9648\n"
     ]
    },
    {
     "data": {
      "text/plain": [
       "<tensorflow.python.keras.callbacks.History at 0x1498d9190>"
      ]
     },
     "execution_count": 70,
     "metadata": {},
     "output_type": "execute_result"
    }
   ],
   "source": [
    "EVALUATION_INTERVAL = 300\n",
    "EPOCHS = 100\n",
    "\n",
    "simple_lstm_model.fit(train_univariate, epochs=EPOCHS,\n",
    "                      steps_per_epoch=EVALUATION_INTERVAL,\n",
    "                      validation_data=val_univariate, validation_steps=50)"
   ]
  },
  {
   "cell_type": "code",
   "execution_count": 71,
   "metadata": {},
   "outputs": [
    {
     "name": "stdout",
     "output_type": "stream",
     "text": [
      "382/382 [==============================] - 0s 703us/sample - loss: 0.9693\n"
     ]
    },
    {
     "data": {
      "text/plain": [
       "0.9693371896968462"
      ]
     },
     "execution_count": 71,
     "metadata": {},
     "output_type": "execute_result"
    }
   ],
   "source": [
    "score = simple_lstm_model.evaluate(x_val_uni, y_val_uni, verbose=1)\n",
    "score"
   ]
  },
  {
   "cell_type": "code",
   "execution_count": 72,
   "metadata": {},
   "outputs": [
    {
     "name": "stdout",
     "output_type": "stream",
     "text": [
      "INFO:tensorflow:Assets written to: ./Models/Bonus003/assets\n"
     ]
    }
   ],
   "source": [
    "ver = '003'\n",
    "simple_lstm_model.save('./Models/' + Ball_to_predict + ver)"
   ]
  },
  {
   "cell_type": "markdown",
   "metadata": {},
   "source": [
    "# Predict"
   ]
  },
  {
   "cell_type": "code",
   "execution_count": 73,
   "metadata": {},
   "outputs": [
    {
     "data": {
      "text/plain": [
       "(8, 1)"
      ]
     },
     "execution_count": 73,
     "metadata": {},
     "output_type": "execute_result"
    }
   ],
   "source": [
    "last_result = np.reshape(\n",
    "    np.array(dft[Ball_to_predict].tail(8)),\n",
    "    (8,1))\n",
    "last_result.shape"
   ]
  },
  {
   "cell_type": "code",
   "execution_count": 74,
   "metadata": {},
   "outputs": [
    {
     "data": {
      "text/plain": [
       "array([[ 7],\n",
       "       [12],\n",
       "       [37],\n",
       "       [37],\n",
       "       [32],\n",
       "       [ 7],\n",
       "       [29],\n",
       "       [23]])"
      ]
     },
     "execution_count": 74,
     "metadata": {},
     "output_type": "execute_result"
    }
   ],
   "source": [
    "last_result"
   ]
  },
  {
   "cell_type": "code",
   "execution_count": 75,
   "metadata": {},
   "outputs": [
    {
     "data": {
      "text/plain": [
       "array([[-1.14203382],\n",
       "       [-0.71030286],\n",
       "       [ 1.44835193],\n",
       "       [ 1.44835193],\n",
       "       [ 1.01662097],\n",
       "       [-1.14203382],\n",
       "       [ 0.75758239],\n",
       "       [ 0.23950525]])"
      ]
     },
     "execution_count": 75,
     "metadata": {},
     "output_type": "execute_result"
    }
   ],
   "source": [
    "last_result = ((last_result-uni_train_mean)/uni_train_std)\n",
    "last_result"
   ]
  },
  {
   "cell_type": "code",
   "execution_count": 76,
   "metadata": {},
   "outputs": [
    {
     "data": {
      "text/plain": [
       "<tf.Tensor: shape=(2, 8, 1), dtype=float64, numpy=\n",
       "array([[[-1.14203382],\n",
       "        [-0.71030286],\n",
       "        [ 1.44835193],\n",
       "        [ 1.44835193],\n",
       "        [ 1.01662097],\n",
       "        [-1.14203382],\n",
       "        [ 0.75758239],\n",
       "        [ 0.23950525]],\n",
       "\n",
       "       [[-1.14203382],\n",
       "        [-0.71030286],\n",
       "        [ 1.44835193],\n",
       "        [ 1.44835193],\n",
       "        [ 1.01662097],\n",
       "        [-1.14203382],\n",
       "        [ 0.75758239],\n",
       "        [ 0.23950525]]])>"
      ]
     },
     "execution_count": 76,
     "metadata": {},
     "output_type": "execute_result"
    }
   ],
   "source": [
    "last_result = tf.convert_to_tensor(\n",
    "    [last_result,last_result], dtype=np.float64, dtype_hint=None, name=None)\n",
    "last_result"
   ]
  },
  {
   "cell_type": "markdown",
   "metadata": {},
   "source": [
    "# Predict current draw"
   ]
  },
  {
   "cell_type": "code",
   "execution_count": 77,
   "metadata": {},
   "outputs": [
    {
     "data": {
      "text/plain": [
       "array([[19.898205]], dtype=float32)"
      ]
     },
     "execution_count": 77,
     "metadata": {},
     "output_type": "execute_result"
    }
   ],
   "source": [
    "simple_lstm_model.predict(last_result[:1]) * uni_train_std + uni_train_mean"
   ]
  },
  {
   "cell_type": "code",
   "execution_count": 78,
   "metadata": {},
   "outputs": [
    {
     "name": "stdout",
     "output_type": "stream",
     "text": [
      "0       4\n",
      "1       3\n",
      "2       5\n",
      "3       2\n",
      "4       3\n",
      "       ..\n",
      "1941    9\n",
      "1942    2\n",
      "1943    9\n",
      "1944    7\n",
      "1945    2\n",
      "Name: 1, Length: 1946, dtype: int64\n",
      "0        8\n",
      "1        9\n",
      "2       11\n",
      "3        4\n",
      "4        7\n",
      "        ..\n",
      "1941    13\n",
      "1942    12\n",
      "1943    16\n",
      "1944     8\n",
      "1945     3\n",
      "Name: 2, Length: 1946, dtype: int64\n",
      "0       16\n",
      "1       13\n",
      "2       18\n",
      "3       10\n",
      "4        8\n",
      "        ..\n",
      "1941    22\n",
      "1942    18\n",
      "1943    18\n",
      "1944    10\n",
      "1945    19\n",
      "Name: 3, Length: 1946, dtype: int64\n"
     ]
    }
   ],
   "source": [
    "Ball_to_predict = ['1','2','3']\n",
    "for i in Ball_to_predict:\n",
    "    print(df[i])"
   ]
  },
  {
   "cell_type": "code",
   "execution_count": 79,
   "metadata": {},
   "outputs": [],
   "source": [
    "import datetime"
   ]
  },
  {
   "cell_type": "code",
   "execution_count": 81,
   "metadata": {},
   "outputs": [
    {
     "data": {
      "text/plain": [
       "datetime.datetime(2020, 4, 3, 19, 50, 37, 970339)"
      ]
     },
     "execution_count": 81,
     "metadata": {},
     "output_type": "execute_result"
    }
   ],
   "source": [
    "datetime.datetime.today()"
   ]
  },
  {
   "cell_type": "code",
   "execution_count": null,
   "metadata": {},
   "outputs": [],
   "source": []
  }
 ],
 "metadata": {
  "kernelspec": {
   "display_name": "Python 3",
   "language": "python",
   "name": "python3"
  },
  "language_info": {
   "codemirror_mode": {
    "name": "ipython",
    "version": 3
   },
   "file_extension": ".py",
   "mimetype": "text/x-python",
   "name": "python",
   "nbconvert_exporter": "python",
   "pygments_lexer": "ipython3",
   "version": "3.7.7"
  }
 },
 "nbformat": 4,
 "nbformat_minor": 4
}
